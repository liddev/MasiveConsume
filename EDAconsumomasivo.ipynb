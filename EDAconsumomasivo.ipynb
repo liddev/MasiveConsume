{
  "nbformat": 4,
  "nbformat_minor": 0,
  "metadata": {
    "colab": {
      "private_outputs": true,
      "provenance": []
    },
    "kernelspec": {
      "name": "python3",
      "display_name": "Python 3"
    },
    "language_info": {
      "name": "python"
    }
  },
  "cells": [
    {
      "cell_type": "code",
      "execution_count": null,
      "metadata": {
        "id": "3HgtbLHAgAoK"
      },
      "outputs": [],
      "source": [
        "import pandas as pd\n",
        "from google.colab import files\n",
        "uploaded = files.upload()"
      ]
    },
    {
      "cell_type": "code",
      "source": [
        "import numpy as np\n",
        "import matplotlib.pyplot as plt\n",
        "import seaborn as sns"
      ],
      "metadata": {
        "id": "uqBn3jyGo2XS"
      },
      "execution_count": null,
      "outputs": []
    },
    {
      "cell_type": "code",
      "source": [
        "df = pd.read_excel(\"consumomasivo.xlsx\", decimal=',')"
      ],
      "metadata": {
        "id": "XoAMVxg0jgEr"
      },
      "execution_count": null,
      "outputs": []
    },
    {
      "cell_type": "code",
      "source": [
        "df.head(10)"
      ],
      "metadata": {
        "id": "nchn-W3DkUFj"
      },
      "execution_count": null,
      "outputs": []
    },
    {
      "cell_type": "code",
      "source": [
        "df1=df\n",
        "df1.info()\n",
        "df1.shape"
      ],
      "metadata": {
        "id": "kBAbQGuvkUAK"
      },
      "execution_count": null,
      "outputs": []
    },
    {
      "cell_type": "code",
      "source": [
        "#eliminar_columnas = ['prod_name_long','prod_icon','source_type']"
      ],
      "metadata": {
        "id": "HszXHiBQlax7"
      },
      "execution_count": null,
      "outputs": []
    },
    {
      "cell_type": "code",
      "source": [
        "#veamos duplicados:\n",
        "duplicados=df1[df1.duplicated()]\n",
        "duplicados.count()"
      ],
      "metadata": {
        "id": "nVHgm_e8laqe"
      },
      "execution_count": null,
      "outputs": []
    },
    {
      "cell_type": "code",
      "source": [
        "df1['date'] = df1['date'].astype('object')\n",
        "df1['prod_id'] = df1['prod_id'].astype('object')\n",
        "df1['source_type'] = df1['source_type'].astype('object')\n",
        "print(pd.DataFrame(df1['date'].value_counts(dropna=False)))\n",
        "df1.describe().T"
      ],
      "metadata": {
        "id": "cH6Pndx-mStJ"
      },
      "execution_count": null,
      "outputs": []
    },
    {
      "cell_type": "code",
      "source": [
        "#distribuciones de los productos, por grupo\n",
        "counts = df1.groupby(['category', 'subcategory']).size().reset_index(name='count')\n",
        "plt.figure(figsize=(10, 6))\n",
        "sns.barplot(x='count', y='subcategory', hue='category', data=counts, palette='husl')"
      ],
      "metadata": {
        "id": "6w3gOI4AoHqU"
      },
      "execution_count": null,
      "outputs": []
    },
    {
      "cell_type": "code",
      "source": [
        "#Mayor cantidad de ventas: Lácteos, huevos y refrigerados\n",
        "#veamos las marcas:\n",
        "empresa_mas_frecuente = df['prod_brand'].mode()[0]\n",
        "porcentaje_mencion = (df['prod_brand'].value_counts(normalize=True) * 100).loc[empresa_mas_frecuente]\n",
        "print('La empresa con más prescencia es: ',empresa_mas_frecuente)\n",
        "porcentaje_empresas = (df['prod_brand'].value_counts(normalize=True) * 100)\n",
        "print(porcentaje_empresas)"
      ],
      "metadata": {
        "id": "O82w4GKMqGtT"
      },
      "execution_count": null,
      "outputs": []
    },
    {
      "cell_type": "code",
      "source": [
        "df1['date']=df1['date'].astype(str)\n",
        "df1['year']=df1['date'].str[:4]\n",
        "df1['month']=df1['date'].str[4:6]\n",
        "df1['day']=df1['date'].str[6:]\n",
        "meses={\"01\":\"Enero\", \"02\":\"Febrero\", \"03\":\"Marzo\", \"04\":\"Abril\",\n",
        "          \"05\":\"Mayo\", \"06\":\"Junio\", \"07\":\"Julio\", \"08\":\"Agosto\", \"09\":\"Setiembre\",\n",
        "          \"10\":\"Octubre\", \"11\":\"Noviembre\", \"12\":\"Diciembre\"}\n",
        "df1['Month_name']=df1['month'].map(meses)\n",
        "\n",
        "df1.head(5)"
      ],
      "metadata": {
        "id": "FlLHY2SVw9kl"
      },
      "execution_count": null,
      "outputs": []
    },
    {
      "cell_type": "code",
      "source": [
        "df1['year']=pd.to_numeric(df1['year'])\n",
        "df1['month']=pd.to_numeric(df1['month'])\n",
        "df1['day']=pd.to_numeric(df1['day'])\n",
        "df1.head(5)"
      ],
      "metadata": {
        "id": "0ImFn7RRz0H1"
      },
      "execution_count": null,
      "outputs": []
    },
    {
      "cell_type": "code",
      "source": [
        "df1.info()"
      ],
      "metadata": {
        "id": "akXF88K33vsO"
      },
      "execution_count": null,
      "outputs": []
    },
    {
      "cell_type": "code",
      "source": [
        "#ingresos principales por subcategoria (eliminemos columna categoria ya que solo hay un unico valor y no es relevante)\n",
        "\n",
        "#ingresos por subcategorías, 10 primeros:\n",
        "df1_sales = df1.groupby([\"subcategory\"], as_index=False).count().sort_values(\"subcategory\", ascending=0)[:10]\n",
        "df1_incomes=df1.groupby(['subcategory'], as_index=False).sum().sort_values(\"prod_unit_price\",ascending=False)[:10]\n",
        "colors = ['#1f77b4', '#ff7f0e', '#2ca02c', '#d62728', '#9467bd',\n",
        "          '#8c564b', '#e377c2', '#7f7f7f', '#bcbd22', '#17becf', \"#FF5733\",\n",
        "          \"#9FDD22\", \"#F7DC6F\"]\n",
        "plt.style.use('fivethirtyeight')\n",
        "fig, axes = plt.subplots(1,2, figsize=(20,5))\n",
        "axes[0].barh(df1_incomes[\"subcategory\"], df1_incomes[\"subcategory\"], color=colors)\n",
        "axes[0].set_title(\"Top 10 ventas por subcategoría\")\n",
        "axes[0].set_xlabel(\"Ventas\")\n",
        "axes[0].set_ylabel(\"Subcategoria\")\n",
        "\n",
        "axes[1].barh(df1_incomes[\"subcategory\"], df1_incomes[\"prod_unit_price\"], color=colors)\n",
        "axes[1].set_title(\"Top 10 ingresos por subcategoría\")\n",
        "axes[1].set_xlabel(\"Ingresos\")\n",
        "axes[1].set_ylabel(\"Subcategoria\")\n",
        "\n",
        "fig.tight_layout()"
      ],
      "metadata": {
        "id": "0-gBWut70GLN"
      },
      "execution_count": null,
      "outputs": []
    },
    {
      "cell_type": "code",
      "source": [
        "df1.info()\n"
      ],
      "metadata": {
        "id": "1dhMbGza20_1"
      },
      "execution_count": null,
      "outputs": []
    },
    {
      "cell_type": "code",
      "source": [
        "#VOGUE es sector belleza, enfocandonos en el sector de LACTEOS, nuestra empresa target seria \"ALPINA\""
      ],
      "metadata": {
        "id": "IVPooFs1u0ds"
      },
      "execution_count": null,
      "outputs": []
    }
  ]
}